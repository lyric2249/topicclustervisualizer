{
 "cells": [
  {
   "cell_type": "code",
   "execution_count": null,
   "metadata": {},
   "outputs": [],
   "source": [
    "#!pip install scipy --upgrade"
   ]
  },
  {
   "cell_type": "code",
   "execution_count": null,
   "metadata": {},
   "outputs": [],
   "source": [
    "# p.33\n",
    "import pandas as pd\n",
    "import numpy as np\n",
    "from scipy import stats\n",
    "\n",
    "auto = pd.read_fwf(\"auto.dat\", header = None, widths = [19,4,6,3,2,2,4,5,3,5,4,3,4,4])\n",
    "auto.columns = ['model','origin', 'price', 'mpg', 'rep78', 'rep77', 'hroom', 'rseat', 'trunk', 'weight', 'length', 'turn', 'displa', 'gratio']"
   ]
  },
  {
   "cell_type": "code",
   "execution_count": null,
   "metadata": {},
   "outputs": [],
   "source": [
    "# p. 33\n",
    "# nq plot\n",
    "import statsmodels.api as sm\n",
    "from matplotlib import pyplot as plt\n",
    "fig = sm.qqplot(auto['price'], fit=True, line=\"45\")\n",
    "plt.show()"
   ]
  },
  {
   "cell_type": "code",
   "execution_count": null,
   "metadata": {},
   "outputs": [],
   "source": [
    "# p.34\n",
    "# contour plot\n",
    "import matplotlib.pyplot as plt\n",
    "import seaborn as sns\n",
    "\n",
    "plt.subplots(figsize=(8, 8))\n",
    "# Draw a contour plot to represent each bivariate density\n",
    "sns.kdeplot(\n",
    "    data=auto,\n",
    "    x=\"price\",\n",
    "    y=\"weight\",\n",
    "    hue=\"origin\")\n",
    "plt.show()"
   ]
  },
  {
   "cell_type": "code",
   "execution_count": null,
   "metadata": {},
   "outputs": [],
   "source": [
    "# p.35\n",
    "# cqplot\n",
    "x = auto[['price','weight']]\n",
    "m = x.mean()\n",
    "s = x.cov()\n",
    "s_inv = np.linalg.inv(s)\n",
    "\n",
    "d = np.zeros(len(auto))\n",
    "for i in range(len(auto)):\n",
    "    d[i] = (x.iloc[i,]-m).dot(s_inv).dot(x.iloc[i,]-m)          \n",
    "d"
   ]
  },
  {
   "cell_type": "code",
   "execution_count": null,
   "metadata": {
    "scrolled": true
   },
   "outputs": [],
   "source": [
    "sm.qqplot(d, stats.chi, distargs=(2,), fit=True, line=\"45\")\n",
    "plt.title(\"chi-square for price and weight\")\n",
    "plt.show()"
   ]
  },
  {
   "cell_type": "code",
   "execution_count": null,
   "metadata": {},
   "outputs": [],
   "source": [
    "# p.36\n",
    "# box-cox plot\n",
    "lambdas = np.linspace(-2, 2)\n",
    "loglikelihood = np.zeros(lambdas.shape, dtype=float)\n",
    "for i, l in enumerate(lambdas):\n",
    "    loglikelihood[i] = stats.boxcox_llf(l, auto.weight)\n",
    "lambda_optimal = stats.boxcox(auto.weight)[1] # maximizer of loglikelihood = minimizer of -loglikelihood\n",
    "lambda_optimal"
   ]
  },
  {
   "cell_type": "code",
   "execution_count": null,
   "metadata": {},
   "outputs": [],
   "source": [
    "fit_boxcox = pd.DataFrame({'lambda': lambdas, '-loglikelihood': -loglikelihood})\n",
    "\n",
    "sns.lineplot(data=fit_boxcox, x='lambda', y='-loglikelihood')\n",
    "plt.title(\"Box-Cox Transform for weight\")\n",
    "plt.vlines(lambda_optimal, ymin = 490, ymax = 505, color = 'red')\n",
    "plt.text(x = 0.45, y = 490, s = \"lambda = \" + str(np.round(lambda_optimal,3)), color = 'red')\n",
    "plt.show()"
   ]
  },
  {
   "cell_type": "code",
   "execution_count": null,
   "metadata": {},
   "outputs": [],
   "source": [
    "# p.37\n",
    "# Shapiro-Wilk test\n",
    "stat, p = stats.shapiro(auto.price)\n",
    "print(\"statistic = %.3f, p-value = %.10f\" % (stat,p))"
   ]
  },
  {
   "cell_type": "code",
   "execution_count": null,
   "metadata": {},
   "outputs": [],
   "source": [
    "# Kolmogorov-Smirnov test\n",
    "m = np.mean(auto.price)\n",
    "s = np.std(auto.price)\n",
    "stat, p = stats.kstest(auto.price, 'norm', args=(m, s))\n",
    "print(\"statistic = %.3f, p-value = %.10f\" % (stat,p))"
   ]
  },
  {
   "cell_type": "code",
   "execution_count": null,
   "metadata": {},
   "outputs": [],
   "source": [
    "# Cramer-von Mises test\n",
    "stats.cramervonmises(auto.price, 'norm', args=(m, s))"
   ]
  },
  {
   "cell_type": "code",
   "execution_count": null,
   "metadata": {},
   "outputs": [],
   "source": [
    "# Anderson-Darling test\n",
    "stats.anderson(auto.price,'norm')"
   ]
  },
  {
   "cell_type": "code",
   "execution_count": null,
   "metadata": {},
   "outputs": [],
   "source": []
  }
 ],
 "metadata": {
  "kernelspec": {
   "display_name": "Python 3",
   "language": "python",
   "name": "python3"
  },
  "language_info": {
   "codemirror_mode": {
    "name": "ipython",
    "version": 3
   },
   "file_extension": ".py",
   "mimetype": "text/x-python",
   "name": "python",
   "nbconvert_exporter": "python",
   "pygments_lexer": "ipython3",
   "version": "3.7.6"
  }
 },
 "nbformat": 4,
 "nbformat_minor": 4
}
