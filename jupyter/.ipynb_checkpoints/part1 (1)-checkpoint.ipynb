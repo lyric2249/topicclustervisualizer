{
 "cells": [
  {
   "cell_type": "markdown",
   "metadata": {},
   "source": [
    "# 다변량분석 1강"
   ]
  },
  {
   "cell_type": "code",
   "execution_count": null,
   "metadata": {},
   "outputs": [],
   "source": [
    "import pandas as pd\n",
    "import numpy as np"
   ]
  },
  {
   "cell_type": "code",
   "execution_count": null,
   "metadata": {
    "scrolled": true
   },
   "outputs": [],
   "source": [
    "# p.22\n",
    "auto = pd.read_fwf(\"auto.dat\", header = None, widths = [19,4,6,3,2,2,4,5,3,5,4,3,4,4], \n",
    "                   na_values='.')\n",
    "auto.columns = ['model','origin', 'price', 'mpg', 'rep78', 'rep77', 'hroom', 'rseat', \n",
    "                'trunk', 'weight', 'length', 'turn', 'displa', 'gratio']\n",
    "auto"
   ]
  },
  {
   "cell_type": "code",
   "execution_count": null,
   "metadata": {
    "scrolled": true
   },
   "outputs": [],
   "source": [
    "auto[['price', 'mpg', 'length']].mean()"
   ]
  },
  {
   "cell_type": "code",
   "execution_count": null,
   "metadata": {},
   "outputs": [],
   "source": [
    "auto[['price', 'mpg', 'length']].std()"
   ]
  },
  {
   "cell_type": "code",
   "execution_count": null,
   "metadata": {},
   "outputs": [],
   "source": [
    "np.std(auto[['price', 'mpg', 'length']])"
   ]
  },
  {
   "cell_type": "code",
   "execution_count": null,
   "metadata": {},
   "outputs": [],
   "source": [
    "auto[['price', 'mpg', 'length']].sum()"
   ]
  },
  {
   "cell_type": "code",
   "execution_count": null,
   "metadata": {
    "scrolled": true
   },
   "outputs": [],
   "source": [
    "auto[['price', 'mpg', 'length']].cov()"
   ]
  },
  {
   "cell_type": "code",
   "execution_count": null,
   "metadata": {},
   "outputs": [],
   "source": [
    "auto[['price', 'mpg', 'length']].corr()"
   ]
  },
  {
   "cell_type": "code",
   "execution_count": null,
   "metadata": {},
   "outputs": [],
   "source": [
    "# p.29\n",
    "score = pd.DataFrame({'id':range(1,13), 'type':[np.nan]*12, \n",
    "                      'total':[135,125,223,224,133,253,192,186,64,159,133,163]})"
   ]
  },
  {
   "cell_type": "code",
   "execution_count": null,
   "metadata": {
    "scrolled": true
   },
   "outputs": [],
   "source": [
    "score.iloc[0:6,1]='rural'\n",
    "score.iloc[6:,1]='urban'\n",
    "score"
   ]
  },
  {
   "cell_type": "code",
   "execution_count": null,
   "metadata": {},
   "outputs": [],
   "source": [
    "score.groupby('type')['total'].describe()"
   ]
  },
  {
   "cell_type": "code",
   "execution_count": null,
   "metadata": {},
   "outputs": [],
   "source": [
    "# p.30 - standardization\n",
    "from sklearn.preprocessing import StandardScaler\n",
    "scaler = StandardScaler()\n",
    "f = lambda x: (scaler.fit_transform(x.to_frame()))[:,0]"
   ]
  },
  {
   "cell_type": "code",
   "execution_count": null,
   "metadata": {},
   "outputs": [],
   "source": [
    "score_std = score.copy()\n",
    "score_std['total'] = score.groupby('type')['total'].transform(f)\n",
    "score_std"
   ]
  },
  {
   "cell_type": "code",
   "execution_count": null,
   "metadata": {
    "scrolled": true
   },
   "outputs": [],
   "source": [
    "score_std.groupby('type')['total'].describe() \n",
    "# to check if standardization worked well(mean = 0, std = 1)"
   ]
  },
  {
   "cell_type": "code",
   "execution_count": null,
   "metadata": {},
   "outputs": [],
   "source": [
    "# p.31 - standardization using IQR method\n",
    "from sklearn.preprocessing import RobustScaler\n",
    "scaler = RobustScaler()\n",
    "f = lambda x: (scaler.fit_transform(x.to_frame()))[:,0]"
   ]
  },
  {
   "cell_type": "code",
   "execution_count": null,
   "metadata": {},
   "outputs": [],
   "source": [
    "score_IQR = score.copy()\n",
    "score_IQR['total'] = score.groupby('type')['total'].transform(f)"
   ]
  },
  {
   "cell_type": "code",
   "execution_count": null,
   "metadata": {},
   "outputs": [],
   "source": [
    "score_IQR.groupby('type')['total'].describe() \n",
    "# to check if standardization worked well(median = 0, Q3-Q1 = 1)"
   ]
  },
  {
   "cell_type": "code",
   "execution_count": null,
   "metadata": {},
   "outputs": [],
   "source": [
    "# p.41\n",
    "#navy = pd.read_fwf(\"navy.dat\", header = None, widths = [3,7,7,6,6,3,4,4,7])\n",
    "navy = pd.read_csv('navy.dat', header=None, delim_whitespace=True)\n",
    "navy.columns = ['ID', 'ADO', 'MAC', 'WHR', 'CUA', 'WNGS', 'OBC', 'RMS', 'MMH']\n",
    "navy"
   ]
  },
  {
   "cell_type": "code",
   "execution_count": null,
   "metadata": {
    "scrolled": true
   },
   "outputs": [],
   "source": [
    "# p.39\n",
    "logado = np.log(navy['ADO'])\n",
    "logmac = np.log(navy['MAC'])\n",
    "\n",
    "# p.42 Bubble plot\n",
    "import matplotlib.pyplot as plt\n",
    "\n",
    "plt.scatter(logmac, logado, s = navy['MMH']/15)\n",
    "\n",
    "plt.xlim(0,8) ; plt.ylim(0,7)\n",
    "plt.xlabel('LOG AVERAGE NUMBER OF CHK-INS/MO')\n",
    "plt.ylabel('LOG AVERAGE DAILY OCCUPANCY')\n",
    "plt.title('U.S. NAVY BACHELOR OFFICERS QUARTERS')\n",
    "plt.show()"
   ]
  },
  {
   "cell_type": "code",
   "execution_count": null,
   "metadata": {},
   "outputs": [],
   "source": [
    "# p.44\n",
    "applicant = pd.read_csv('applican.dat', header = None, delim_whitespace=True)\n",
    "applicant.columns = ['ID','FL','APP','AA','LA','SC','LC','HON','SMS','EXP',\n",
    "                     'DRV','AMB','GSP','POT','KJ','SUIT']\n",
    "applicant"
   ]
  },
  {
   "cell_type": "code",
   "execution_count": null,
   "metadata": {},
   "outputs": [],
   "source": [
    "# p.45\n",
    "G1 = applicant[['SC','LC','SMS','DRV','AMB','GSP','POT']].mean(axis=1)\n",
    "G2 = applicant[['FL','EXP','SUIT']].mean(axis=1)\n",
    "G3 = applicant[['LA','HON','KJ']].mean(axis=1)\n",
    "\n",
    "plt.scatter(G2, G1, s = G3*30, facecolors='none', edgecolors='b')\n",
    "\n",
    "plt.xlim(-2,12) ; plt.ylim(-2,12)\n",
    "plt.xlabel('G2')\n",
    "plt.ylabel('G1')\n",
    "plt.title('3-D Plot')\n",
    "plt.show()"
   ]
  },
  {
   "cell_type": "code",
   "execution_count": null,
   "metadata": {
    "scrolled": true
   },
   "outputs": [],
   "source": [
    "# p.46\n",
    "plt.figure(figsize = (10,10))\n",
    "ax = plt.axes(projection='3d')\n",
    "\n",
    "ax.scatter(logmac, logado, navy.MMH, c=navy.MMH, s=100)\n",
    "ax.set_xlabel('LOG AVERAGE NUMBER OF CHK-INS/MO')\n",
    "ax.set_ylabel('LOG AVERAGE DAILY OCCUPANCY')\n",
    "ax.set_zlabel('MONTHLY MAN-HOURS')\n",
    "ax.set_title('U.S. NAVY BACHELOR OFFICERS QUARTERS')\n",
    "plt.show()"
   ]
  },
  {
   "cell_type": "code",
   "execution_count": null,
   "metadata": {},
   "outputs": [],
   "source": [
    "# p.47\n",
    "plt.figure(figsize = (10,10))\n",
    "ax = plt.axes(projection='3d')\n",
    "\n",
    "ax.scatter(G2, G1, G3, c=G3, s=applicant.AA*30)\n",
    "ax.set_xlabel('G2')\n",
    "ax.set_ylabel('G1')\n",
    "ax.set_zlabel('G3')\n",
    "plt.show()"
   ]
  },
  {
   "cell_type": "code",
   "execution_count": null,
   "metadata": {
    "scrolled": false
   },
   "outputs": [],
   "source": [
    "# p.53\n",
    "auto2 = auto.copy()\n",
    "auto2.price = -auto2.price\n",
    "auto2.turn = -auto2.turn\n",
    "auto2.gratio = -auto2.gratio # change signs so that large values represent 'good' cars\n",
    "auto2.dropna(inplace=True)\n",
    "auto2 "
   ]
  },
  {
   "cell_type": "code",
   "execution_count": null,
   "metadata": {
    "scrolled": true
   },
   "outputs": [],
   "source": [
    "from sklearn.preprocessing import MinMaxScaler\n",
    "scaler = MinMaxScaler()\n",
    "auto2.iloc[:,2:] = scaler.fit_transform(auto2.iloc[:,2:])\n",
    "auto2.describe()"
   ]
  },
  {
   "cell_type": "code",
   "execution_count": null,
   "metadata": {
    "scrolled": true
   },
   "outputs": [],
   "source": [
    "import plotly.express as px\n",
    "\n",
    "for i in range(15,25):  # 16번째 차량부터 25번째 차량까지만 그림\n",
    "    df = pd.DataFrame(dict(\n",
    "    r = auto2.iloc[i,2:],\n",
    "    theta = auto2.columns[2:].tolist()))\n",
    "    fig = px.line_polar(df, r='r',theta='theta',line_close=True,\n",
    "                        range_r=[0,1],title=auto2.iloc[i,0])\n",
    "    fig.show()"
   ]
  },
  {
   "cell_type": "code",
   "execution_count": null,
   "metadata": {},
   "outputs": [],
   "source": [
    "# Chernoff Faces\n",
    "auto2 = auto.copy()\n",
    "auto2.price = -auto2.price\n",
    "auto2.turn = -auto2.turn\n",
    "auto2.gratio = -auto2.gratio # change signs so that large values represent 'good' cars\n",
    "auto2.dropna(inplace=True)\n",
    "from sklearn.preprocessing import MinMaxScaler\n",
    "scaler = MinMaxScaler()\n",
    "auto2.iloc[:,2:] = scaler.fit_transform(auto2.iloc[:,2:])"
   ]
  },
  {
   "cell_type": "code",
   "execution_count": null,
   "metadata": {},
   "outputs": [],
   "source": [
    "import matplotlib\n",
    "from numpy.random import rand\n",
    "from numpy import pi, arctan\n",
    "\n",
    "def cface(ax,h,x1,x2,x3,x4,x5,x6,x7,x8,x9,x10,x11,x12):\n",
    "  \n",
    "    # top of face\n",
    "    e = matplotlib.patches.Ellipse( (0,(h+x2)/3), 2*x3, (h-x2), fc='white', edgecolor='black', linewidth=2)\n",
    "    ax.add_artist(e)\n",
    "\n",
    "    # bottom of face\n",
    "    e = matplotlib.patches.Ellipse( (0,(-h+x1+x2)/3), 2*x4, (h+x1+x2), fc='white', edgecolor='black', linewidth=2)\n",
    "    ax.add_artist(e)\n",
    "\n",
    "    # cover overlaps\n",
    "    e = matplotlib.patches.Ellipse( (0,(h+x2)/3), 2*x3, (h-x2), fc='white', edgecolor='black', ec='none')\n",
    "    ax.add_artist(e)\n",
    "    e = matplotlib.patches.Ellipse( (0,(-h+x1+x2)/3), 2*x4, (h+x1+x2), fc='white', edgecolor='black', ec='none')\n",
    "    ax.add_artist(e)\n",
    "\n",
    "    # draw nose\n",
    "    ax.plot([0,0], [-x5/2, x5/2], 'k')\n",
    "\n",
    "    # draw mouth\n",
    "    p = matplotlib.patches.Arc( (0,-x6+.5/x7), 1/x7, 1/x7, theta1=270-180/pi*arctan(x7*x8), theta2=270+180/pi*arctan(x7*x8))\n",
    "    ax.add_artist(p)\n",
    "\n",
    "    # draw eyes\n",
    "    p = matplotlib.patches.Ellipse( (-x10-x5/2,x9), x5, x12*x5, angle=-180/pi*x11, facecolor='white', edgecolor='black')\n",
    "    ax.add_artist(p)\n",
    "\n",
    "    p = matplotlib.patches.Ellipse( (x10+x5/2,x9), x5, x12*x5, angle=180/pi*x11, facecolor='white', edgecolor='black')\n",
    "    ax.add_artist(p)\n",
    "\n",
    "    # draw pupils\n",
    "    p = matplotlib.patches.Ellipse( (-x10-x5/2-x6*x5/2, x9), .05, .05, facecolor='black')\n",
    "    ax.add_artist(p)\n",
    "    p = matplotlib.patches.Ellipse( (x10+x5/2-x6*x5/2, x9), .05, .05, facecolor='black')\n",
    "    ax.add_artist(p)\n",
    "\n",
    "    # draw eyebrows\n",
    "    ax.plot([-x10-x5/2-x5*x9/2,-x10-x5/2+x5*x9/2],[x9+x12*x5*(x7+x8),x9+x12*x5*(x7-x8)],'k')\n",
    "    ax.plot([x10+x5/2+x5*x9/2,x10+x5/2-x5*x9/2],[x9+x12*x5*(x7+x8),x9+x12*x5*(x7-x8)],'k')"
   ]
  },
  {
   "cell_type": "code",
   "execution_count": null,
   "metadata": {},
   "outputs": [],
   "source": [
    "fig = plt.figure(figsize=(20,100))\n",
    "for i in range(15,25):  # 16번째 차량부터 25번째 차량까지만 그림\n",
    "    ax = fig.add_subplot(15,5,i+1,aspect='equal', title = auto2.iloc[i,0])\n",
    "    cface(ax, 0.9, *auto2.iloc[i,2:].values.astype(np.float64))\n",
    "    ax.axis([-2,2,-2,2])\n",
    "    ax.set_xticks([])\n",
    "    ax.set_yticks([])"
   ]
  },
  {
   "cell_type": "code",
   "execution_count": null,
   "metadata": {},
   "outputs": [],
   "source": [
    "df = px.data.iris()\n",
    "fig = px.parallel_coordinates(df, color=\"species_id\", labels={\"species_id\": \"Species\",\n",
    "                \"sepal_width\": \"Sepal Width\", \"sepal_length\": \"Sepal Length\",\n",
    "                \"petal_width\": \"Petal Width\", \"petal_length\": \"Petal Length\", },\n",
    "                             color_continuous_scale=px.colors.diverging.Tealrose,\n",
    "                             color_continuous_midpoint=2)\n",
    "fig.show()"
   ]
  },
  {
   "cell_type": "code",
   "execution_count": null,
   "metadata": {},
   "outputs": [],
   "source": [
    "auto2 = auto.copy()\n",
    "auto2.dropna(inplace=True)\n",
    "\n",
    "from sklearn.preprocessing import MinMaxScaler\n",
    "scaler = MinMaxScaler()\n",
    "auto2.iloc[:,2:] = scaler.fit_transform(auto2.iloc[:,2:])\n",
    "auto3 = auto2[['origin','price','mpg','rep78','weight','gratio']]\n",
    "auto3['origin']=auto3['origin'].replace({'A':1, 'E':2, 'J':3})"
   ]
  },
  {
   "cell_type": "code",
   "execution_count": null,
   "metadata": {},
   "outputs": [],
   "source": [
    "import plotly.express as px\n",
    "fig = px.parallel_coordinates(auto3, color=\"origin\", \n",
    "                              color_continuous_scale=px.colors.diverging.Tealrose,\n",
    "                              color_continuous_midpoint=2)\n",
    "fig.show()"
   ]
  },
  {
   "cell_type": "code",
   "execution_count": null,
   "metadata": {},
   "outputs": [],
   "source": []
  }
 ],
 "metadata": {
  "kernelspec": {
   "display_name": "Python 3",
   "language": "python",
   "name": "python3"
  },
  "language_info": {
   "codemirror_mode": {
    "name": "ipython",
    "version": 3
   },
   "file_extension": ".py",
   "mimetype": "text/x-python",
   "name": "python",
   "nbconvert_exporter": "python",
   "pygments_lexer": "ipython3",
   "version": "3.7.6"
  }
 },
 "nbformat": 4,
 "nbformat_minor": 4
}
